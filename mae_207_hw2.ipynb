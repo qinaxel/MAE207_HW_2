{
 "cells": [
  {
   "cell_type": "markdown",
   "metadata": {},
   "source": [
    "# Assignment 2: Inverse kinematics of our leg\n",
    "\n",
    "Use this noteboook to document interacting with the robot class. The primary goal for this assignment is a video recording and plot rendering of your robot leg commanded to move along an *interesting* path (see the bat sign I chose in the readme page). \n",
    "\n",
    "__Deliverables__\n",
    "1. Your leg.py file in the robot python module we are creating. The template provided has blank functions which need to be completed.\n",
    "2. Two videos, a video of your robot tracing out your commanded trajectory (uploaded to youtube), and a gif of robot commanded trajectory (like on the readme page).\n",
    "3. This notebook which you will use to send the move commands for the trajectory.\n",
    "\n",
    "\n",
    "Team #: No.5\n",
    "\n",
    "Name: QIN QIN"
   ]
  },
  {
   "cell_type": "markdown",
   "metadata": {},
   "source": [
    "# Getting started"
   ]
  },
  {
   "cell_type": "code",
   "execution_count": 1,
   "metadata": {},
   "outputs": [],
   "source": [
    "# Import the robot class we are developing\n",
    "import robot"
   ]
  },
  {
   "cell_type": "code",
   "execution_count": 2,
   "metadata": {},
   "outputs": [
    {
     "name": "stdout",
     "output_type": "stream",
     "text": [
      "here2\n"
     ]
    }
   ],
   "source": [
    "# Make a new leg variable which is a robot.Leg class\n",
    "leg = robot.Leg()"
   ]
  },
  {
   "cell_type": "code",
   "execution_count": 3,
   "metadata": {},
   "outputs": [
    {
     "name": "stdout",
     "output_type": "stream",
     "text": [
      "joint0: 1.570796 \t joint1: 1.570796\n"
     ]
    }
   ],
   "source": [
    "leg.get_joint_pos()\n",
    "\n",
    "print('joint0: %f \\t joint1: %f' % (leg.joint_0_pos, leg.joint_1_pos))"
   ]
  },
  {
   "cell_type": "markdown",
   "metadata": {},
   "source": [
    "# Your code below!"
   ]
  },
  {
   "cell_type": "code",
   "execution_count": 4,
   "metadata": {},
   "outputs": [
    {
     "name": "stdout",
     "output_type": "stream",
     "text": [
      "24\n",
      "[ 0.    0.    2.4   2.    4.5   3.5   4.    2.95  3.    1.6   2.    1.\n",
      "  0.   -1.   -2.   -1.6  -3.   -2.95 -4.   -3.5  -4.5  -2.   -2.4   0.  ]\n",
      "[ 6.7  8.3  8.3  8.7 10.  10.1 11.  10.8 11.6 10.9 13.5 13.  14.5 13.\n",
      " 13.5 10.9 11.6 10.8 11.  10.1 10.   8.7  8.3  8.3]\n"
     ]
    }
   ],
   "source": [
    "import numpy as np\n",
    "import sympy\n",
    "from sympy import Matrix\n",
    "a = np.loadtxt('test_maple.txt') \n",
    "xx=a[0]\n",
    "yy=a[1]\n",
    "tt=24\n",
    "print(tt)\n",
    "print(xx)\n",
    "print(yy)"
   ]
  },
  {
   "cell_type": "code",
   "execution_count": 5,
   "metadata": {},
   "outputs": [],
   "source": [
    "[theta0, theta1, alpha0, alpha1]=leg.move_trajectory(tt,xx,yy)"
   ]
  },
  {
   "cell_type": "code",
   "execution_count": 10,
   "metadata": {},
   "outputs": [],
   "source": [
    "# Draw the simulation\n",
    "import matplotlib.pyplot as plt\n",
    "from sympy import sin, cos\n",
    "import numpy as np\n",
    "\n",
    "\n",
    "# Draw the legs and trajectory\n",
    "%matplotlib qt5\n",
    "\n",
    "for i in range(tt):\n",
    "    leg.draw_leg(7.7, 7, 14, theta0[i], theta1[i], alpha0[i], alpha1[i])\n",
    "    plt.plot(xx[0:i+1], yy[0:i+1])\n",
    "    plt.pause(.25)"
   ]
  },
  {
   "cell_type": "markdown",
   "metadata": {},
   "source": [
    "# Trajectory gif\n",
    "![Simulation of Trajectory gif](GIFmaple.gif)"
   ]
  },
  {
   "cell_type": "code",
   "execution_count": 4,
   "metadata": {},
   "outputs": [],
   "source": [
    "leg.set_home()"
   ]
  },
  {
   "cell_type": "code",
   "execution_count": 5,
   "metadata": {},
   "outputs": [],
   "source": [
    "import numpy as np\n",
    "import sympy\n",
    "from sympy import Matrix\n",
    "a = np.loadtxt('Draw.txt') \n",
    "theta_0=a[0]\n",
    "theta_1=a[1]"
   ]
  },
  {
   "cell_type": "code",
   "execution_count": 6,
   "metadata": {},
   "outputs": [],
   "source": [
    "import time\n",
    "for i in range(24):\n",
    "    leg.set_joint_pos(theta_0[i], theta_1[i])\n",
    "    time.sleep(.25)"
   ]
  },
  {
   "cell_type": "code",
   "execution_count": 14,
   "metadata": {},
   "outputs": [
    {
     "data": {
      "image/jpeg": "[encoded data removed]",
      "text/html": [
       "\n",
       "        <iframe\n",
       "            width=\"400\"\n",
       "            height=\"300\"\n",
       "            src=\"https://www.youtube.com/embed/GIJeqOZa9dM\"\n",
       "            frameborder=\"0\"\n",
       "            allowfullscreen\n",
       "        ></iframe>\n",
       "        "
      ],
      "text/plain": [
       "<IPython.lib.display.YouTubeVideo at 0x17d64e43438>"
      ]
     },
     "execution_count": 14,
     "metadata": {},
     "output_type": "execute_result"
    }
   ],
   "source": [
    "import matplotlib.pyplot as plt\n",
    "\n",
    "from IPython.lib.display import YouTubeVideo # for youtube videos\n",
    "\n",
    "YouTubeVideo('GIJeqOZa9dM')"
   ]
  },
  {
   "cell_type": "code",
   "execution_count": null,
   "metadata": {},
   "outputs": [],
   "source": []
  }
 ],
 "metadata": {
  "kernelspec": {
   "display_name": "Python 3",
   "language": "python",
   "name": "python3"
  },
  "language_info": {
   "codemirror_mode": {
    "name": "ipython",
    "version": 3
   },
   "file_extension": ".py",
   "mimetype": "text/x-python",
   "name": "python",
   "nbconvert_exporter": "python",
   "pygments_lexer": "ipython3",
   "version": "3.6.4"
  }
 },
 "nbformat": 4,
 "nbformat_minor": 2
}
